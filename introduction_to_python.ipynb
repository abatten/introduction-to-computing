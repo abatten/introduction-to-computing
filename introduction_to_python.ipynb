{
 "cells": [
  {
   "cell_type": "markdown",
   "metadata": {},
   "source": [
    "# Introduction to Python\n",
    "\n",
    "This is a super brief introduction to using the programming language *Python*. Python is one of the most popular programming languages in the world, likely because it is both simple to learn but also very powerful. Most astronomers these days learn to use python to do most if not all of their scientific analysis and plotting. \n",
    "\n",
    "In this tutorial you will learn to make a simple plot of data from a text file.\n",
    "\n",
    "----\n",
    "Adam Batten, 2019 (email: abatten@swin.edu.au) "
   ]
  },
  {
   "cell_type": "markdown",
   "metadata": {},
   "source": [
    "## Part 0: Using the Jupyter Notebook\n",
    "This notebook is interactive - you can modify and run code in the cells and save the result. The code cells have a prefix \"In [*n*]:\" where *n* indicates the sequence in which the cell was evaluated. The output of the code is typically shown in another cell immediately following, prefixed with \"Out [*n*]:\". To run a cell use *shift-enter* or select *Run* from the *Cell* menu above.\n",
    "\n",
    "However it is important to note that whenever you change something in a cell you **MUST** re-run the cell for it to have any effect. If you don't re-run the cell Python doesn't know you changed anything and you will spend a lot of time sitting there trying to work out why things don't work (if this happens you, don't worry! It happens to literally everyone all the time, even the best coders).\n",
    "\n",
    "Also, one of the most important thing to know is that google is your best friend. If you don't know how to do something or are getting an error and don't know why. Google the thing you want and you will probably find many other people that had the same problem and answers on how to solve it. This is how every professional solves a lot of problems!"
   ]
  },
  {
   "cell_type": "markdown",
   "metadata": {},
   "source": [
    "## Part 1: The Basics\n",
    "In this section we will cover the basics of using python. "
   ]
  },
  {
   "cell_type": "markdown",
   "metadata": {},
   "source": [
    "### Part 1.1: Arithmetic\n",
    "Firstly you can use python just like you would use a calcuator. It also knows the correct order of operations. The following are the list of opterations:\n",
    "\n",
    "\\+ (Addition), \\- (Subtraction), \\* (Multiplication), / (Division), \\*\\* (Power)"
   ]
  },
  {
   "cell_type": "code",
   "execution_count": 2,
   "metadata": {},
   "outputs": [
    {
     "data": {
      "text/plain": [
       "7.0"
      ]
     },
     "execution_count": 2,
     "metadata": {},
     "output_type": "execute_result"
    }
   ],
   "source": [
    "9 * (2 + 3) - 40 + 2**2 / 2"
   ]
  },
  {
   "cell_type": "markdown",
   "metadata": {},
   "source": [
    "In Jupyter notebooks like these, normally only the result of the last line of code is printed in the \"Out [*n*]:\" cell. For example, in the cell below only the result of \"12 * 17\" is printed. "
   ]
  },
  {
   "cell_type": "code",
   "execution_count": 3,
   "metadata": {},
   "outputs": [
    {
     "data": {
      "text/plain": [
       "204"
      ]
     },
     "execution_count": 3,
     "metadata": {},
     "output_type": "execute_result"
    }
   ],
   "source": [
    "2 + 9\n",
    "4 * 6\n",
    "12 * 17"
   ]
  },
  {
   "cell_type": "markdown",
   "metadata": {},
   "source": [
    "If you want to print off intermediate values use the 'print' function. This is super useful when you want to know the value of something. Particulally useful when trying to debug problems in your code."
   ]
  },
  {
   "cell_type": "code",
   "execution_count": 4,
   "metadata": {},
   "outputs": [
    {
     "name": "stdout",
     "output_type": "stream",
     "text": [
      "12\n",
      "144\n",
      "1728\n",
      "20736\n"
     ]
    }
   ],
   "source": [
    "print(12)\n",
    "print(12*12)\n",
    "print(12*12*12)\n",
    "print(12*12*12*12)"
   ]
  },
  {
   "cell_type": "markdown",
   "metadata": {},
   "source": [
    "### Comments\n",
    "\n",
    "If you include a '#' at the start of the line of code, this tells python \"This is a comment, do not run this code\".\n",
    "Comments are increadibly useful when writing code. You should lots of comments in your code to explain what your code does. This makes it easier for other people to know what your code does (and even you in a few weeks time when you have forgotten what everything). A hint or two as to why you are doing something a particular way will make your code much more readable."
   ]
  },
  {
   "cell_type": "code",
   "execution_count": 4,
   "metadata": {},
   "outputs": [
    {
     "name": "stdout",
     "output_type": "stream",
     "text": [
      "2.5\n"
     ]
    }
   ],
   "source": [
    "# This is a comment\n",
    "\n",
    "# print(12 * 12)   This is commented out, thus it will not run.\n",
    "\n",
    "print(5 / 2)  # You can also put comments at the end of a line like this and the start will still run"
   ]
  },
  {
   "cell_type": "markdown",
   "metadata": {},
   "source": [
    "### Part 1.2 Packages"
   ]
  },
  {
   "cell_type": "markdown",
   "metadata": {},
   "source": [
    "Most of the functionality of python is provided by *packages*, which can be imported to provide functions, classes, constants etc. Using packages means that you can use the code that other people have written without having to write it youself, which for many problems would quite hard to do. *Python* comes with a large collection of such packages called the Python Standard Library which provides tools for accesing files, manipulating text etc. In this tutorial we will be using two vey common packages: \"`numpy`\" and \"`matplotlib`\". \n",
    "\n",
    "- `numpy`: (number python) The fundamental package for scientific computing in python. This contains many functions and constants used in mathematics and science.\n",
    "\n",
    "- `matplotlib`: (matlab plotting library) A very useful package that is used to make a wide variety of plots. "
   ]
  },
  {
   "cell_type": "markdown",
   "metadata": {},
   "source": [
    "To tell Python that we want to use a specific package we have to tell Python to \"import\" this package for us to use."
   ]
  },
  {
   "cell_type": "code",
   "execution_count": 6,
   "metadata": {},
   "outputs": [],
   "source": [
    "import numpy as np\n",
    "import matplotlib.pyplot as plt"
   ]
  },
  {
   "cell_type": "markdown",
   "metadata": {},
   "source": [
    "You can see here that we have written ``import numpy as np`` we could have left it as `import numpy` and it would work. However writting out numpy every time we want to use it is a small inconvenience, so we gave it a 'nickname'. So now when we write `np` python knows we are refering to `numpy`. The same goes for `matplotlib.pyplot`. These are the standard nicknames given to these packages and are found everywhere on the internet and I'd recommend that you also use them."
   ]
  },
  {
   "cell_type": "markdown",
   "metadata": {},
   "source": [
    "Now that we have imported `numpy` we are able to access lots of mathematical constants like $\\pi$ and $e$."
   ]
  },
  {
   "cell_type": "code",
   "execution_count": 7,
   "metadata": {},
   "outputs": [
    {
     "data": {
      "text/plain": [
       "3.141592653589793"
      ]
     },
     "execution_count": 7,
     "metadata": {},
     "output_type": "execute_result"
    }
   ],
   "source": [
    "np.pi"
   ]
  },
  {
   "cell_type": "code",
   "execution_count": 8,
   "metadata": {},
   "outputs": [
    {
     "data": {
      "text/plain": [
       "2.718281828459045"
      ]
     },
     "execution_count": 8,
     "metadata": {},
     "output_type": "execute_result"
    }
   ],
   "source": [
    "np.e"
   ]
  },
  {
   "cell_type": "markdown",
   "metadata": {},
   "source": [
    "We also have trigonometric functions like $\\sin$, $\\cos$ and $\\tan$. There are a bunch of maths operations in `numpy`."
   ]
  },
  {
   "cell_type": "code",
   "execution_count": 10,
   "metadata": {},
   "outputs": [
    {
     "name": "stdout",
     "output_type": "stream",
     "text": [
      "-1.0\n",
      "1.0\n",
      "0.5773502691896256\n"
     ]
    }
   ],
   "source": [
    "# Trig functions in numpy\n",
    "\n",
    "print(np.cos(np.pi))  # This is the cosine function \n",
    "print(np.sin(np.pi/2))  # This is the sine function\n",
    "print(np.tan(np.pi/6))  # This is the tan function"
   ]
  },
  {
   "cell_type": "code",
   "execution_count": 11,
   "metadata": {},
   "outputs": [
    {
     "name": "stdout",
     "output_type": "stream",
     "text": [
      "1.266103672779499\n",
      "0.2013579207903308\n",
      "0.09966865249116204\n"
     ]
    }
   ],
   "source": [
    "# Inverse trig functions in numpy\n",
    "\n",
    "print(np.arccos(0.3))  # cos^-1\n",
    "print(np.arcsin(0.2))  # sin^-1\n",
    "print(np.arctan(0.1))  # tan^-1"
   ]
  },
  {
   "cell_type": "code",
   "execution_count": 12,
   "metadata": {},
   "outputs": [
    {
     "name": "stdout",
     "output_type": "stream",
     "text": [
      "6.0\n"
     ]
    }
   ],
   "source": [
    "print(np.sqrt(36)) # This is the square root function"
   ]
  },
  {
   "cell_type": "code",
   "execution_count": 13,
   "metadata": {},
   "outputs": [
    {
     "name": "stdout",
     "output_type": "stream",
     "text": [
      "54.598150033144236\n"
     ]
    }
   ],
   "source": [
    "print(np.exp(4))  # This is the exponential function"
   ]
  },
  {
   "cell_type": "markdown",
   "metadata": {},
   "source": [
    "### Part 1.3: Getting Help"
   ]
  },
  {
   "cell_type": "markdown",
   "metadata": {},
   "source": [
    "There are several ways of getting help or seeing what is available that don't rely on looking at external documentation. The easiest is to use a '?'."
   ]
  },
  {
   "cell_type": "code",
   "execution_count": 12,
   "metadata": {},
   "outputs": [
    {
     "data": {
      "text/plain": [
       "\u001b[0;31mCall signature:\u001b[0m  \u001b[0mnp\u001b[0m\u001b[0;34m.\u001b[0m\u001b[0mcos\u001b[0m\u001b[0;34m(\u001b[0m\u001b[0;34m*\u001b[0m\u001b[0margs\u001b[0m\u001b[0;34m,\u001b[0m \u001b[0;34m**\u001b[0m\u001b[0mkwargs\u001b[0m\u001b[0;34m)\u001b[0m\u001b[0;34m\u001b[0m\u001b[0;34m\u001b[0m\u001b[0m\n",
       "\u001b[0;31mType:\u001b[0m            ufunc\n",
       "\u001b[0;31mString form:\u001b[0m     <ufunc 'cos'>\n",
       "\u001b[0;31mFile:\u001b[0m            ~/.local/lib/python3.6/site-packages/numpy/__init__.py\n",
       "\u001b[0;31mDocstring:\u001b[0m      \n",
       "cos(x, /, out=None, *, where=True, casting='same_kind', order='K', dtype=None, subok=True[, signature, extobj])\n",
       "\n",
       "Cosine element-wise.\n",
       "\n",
       "Parameters\n",
       "----------\n",
       "x : array_like\n",
       "    Input array in radians.\n",
       "out : ndarray, None, or tuple of ndarray and None, optional\n",
       "    A location into which the result is stored. If provided, it must have\n",
       "    a shape that the inputs broadcast to. If not provided or `None`,\n",
       "    a freshly-allocated array is returned. A tuple (possible only as a\n",
       "    keyword argument) must have length equal to the number of outputs.\n",
       "where : array_like, optional\n",
       "    Values of True indicate to calculate the ufunc at that position, values\n",
       "    of False indicate to leave the value in the output alone.\n",
       "**kwargs\n",
       "    For other keyword-only arguments, see the\n",
       "    :ref:`ufunc docs <ufuncs.kwargs>`.\n",
       "\n",
       "Returns\n",
       "-------\n",
       "y : ndarray\n",
       "    The corresponding cosine values.\n",
       "    This is a scalar if `x` is a scalar.\n",
       "\n",
       "Notes\n",
       "-----\n",
       "If `out` is provided, the function writes the result into it,\n",
       "and returns a reference to `out`.  (See Examples)\n",
       "\n",
       "References\n",
       "----------\n",
       "M. Abramowitz and I. A. Stegun, Handbook of Mathematical Functions.\n",
       "New York, NY: Dover, 1972.\n",
       "\n",
       "Examples\n",
       "--------\n",
       ">>> np.cos(np.array([0, np.pi/2, np.pi]))\n",
       "array([  1.00000000e+00,   6.12303177e-17,  -1.00000000e+00])\n",
       ">>>\n",
       ">>> # Example of providing the optional output parameter\n",
       ">>> out2 = np.cos([0.1], out1)\n",
       ">>> out2 is out1\n",
       "True\n",
       ">>>\n",
       ">>> # Example of ValueError due to provision of shape mis-matched `out`\n",
       ">>> np.cos(np.zeros((3,3)),np.zeros((2,2)))\n",
       "Traceback (most recent call last):\n",
       "  File \"<stdin>\", line 1, in <module>\n",
       "ValueError: operands could not be broadcast together with shapes (3,3) (2,2)\n",
       "\u001b[0;31mClass docstring:\u001b[0m\n",
       "Functions that operate element by element on whole arrays.\n",
       "\n",
       "To see the documentation for a specific ufunc, use `info`.  For\n",
       "example, ``np.info(np.sin)``.  Because ufuncs are written in C\n",
       "(for speed) and linked into Python with NumPy's ufunc facility,\n",
       "Python's help() function finds this page whenever help() is called\n",
       "on a ufunc.\n",
       "\n",
       "A detailed explanation of ufuncs can be found in the docs for :ref:`ufuncs`.\n",
       "\n",
       "Calling ufuncs:\n",
       "===============\n",
       "\n",
       "op(*x[, out], where=True, **kwargs)\n",
       "Apply `op` to the arguments `*x` elementwise, broadcasting the arguments.\n",
       "\n",
       "The broadcasting rules are:\n",
       "\n",
       "* Dimensions of length 1 may be prepended to either array.\n",
       "* Arrays may be repeated along dimensions of length 1.\n",
       "\n",
       "Parameters\n",
       "----------\n",
       "*x : array_like\n",
       "    Input arrays.\n",
       "out : ndarray, None, or tuple of ndarray and None, optional\n",
       "    Alternate array object(s) in which to put the result; if provided, it\n",
       "    must have a shape that the inputs broadcast to. A tuple of arrays\n",
       "    (possible only as a keyword argument) must have length equal to the\n",
       "    number of outputs; use `None` for uninitialized outputs to be\n",
       "    allocated by the ufunc.\n",
       "where : array_like, optional\n",
       "    Values of True indicate to calculate the ufunc at that position, values\n",
       "    of False indicate to leave the value in the output alone.  Note that if\n",
       "    an uninitialized return array is created via the default ``out=None``,\n",
       "    then the elements where the values are False will remain uninitialized.\n",
       "**kwargs\n",
       "    For other keyword-only arguments, see the :ref:`ufunc docs <ufuncs.kwargs>`.\n",
       "\n",
       "Returns\n",
       "-------\n",
       "r : ndarray or tuple of ndarray\n",
       "    `r` will have the shape that the arrays in `x` broadcast to; if `out` is\n",
       "    provided, it will be returned. If not, `r` will be allocated and\n",
       "    may contain uninitialized values. If the function has more than one\n",
       "    output, then the result will be a tuple of arrays.\n"
      ]
     },
     "metadata": {},
     "output_type": "display_data"
    }
   ],
   "source": [
    "np.cos?"
   ]
  },
  {
   "cell_type": "markdown",
   "metadata": {},
   "source": [
    "### Part 1.4: Variables, Strings, Floats, Integers and Booleans"
   ]
  },
  {
   "cell_type": "markdown",
   "metadata": {},
   "source": [
    "In Python, a string is piece of text defined with surrounding `\"` `\"` or `'` `'`. This tells python to treat these characters inside these quotes like text."
   ]
  },
  {
   "cell_type": "code",
   "execution_count": 14,
   "metadata": {},
   "outputs": [
    {
     "name": "stdout",
     "output_type": "stream",
     "text": [
      "Hello World\n",
      "12 * 17\n",
      "1word\n"
     ]
    }
   ],
   "source": [
    "print(\"Hello World\")\n",
    "print(\"12 * 17\")\n",
    "print(\"1word\")"
   ]
  },
  {
   "cell_type": "markdown",
   "metadata": {},
   "source": [
    "Ints in Python are like Integers in mathematics (1, 2, 3, etc). Ints do not have decimal points. Floats (floating point numbers) are numbers that have decimal places. This means that \"1\" and \"1.0\" are different since \"1\" is an int and \"1.0\" is a float."
   ]
  },
  {
   "cell_type": "code",
   "execution_count": 14,
   "metadata": {},
   "outputs": [
    {
     "name": "stdout",
     "output_type": "stream",
     "text": [
      "3.0\n",
      "3\n"
     ]
    }
   ],
   "source": [
    "print(3.0)  # This is a float\n",
    "print(3)  # This is an int"
   ]
  },
  {
   "cell_type": "markdown",
   "metadata": {},
   "source": [
    "Variables are defined with an equals (=) and the value can be any object. In fact, the kind of object you assign to a variable can change during the execution of a program - it doesn't have to remain the same type. The variable name has to start with an alphabetical character or underscore and can contain alphanumeric characters and underscores. It's generally good practice to give variables meaningful names."
   ]
  },
  {
   "cell_type": "code",
   "execution_count": 15,
   "metadata": {},
   "outputs": [
    {
     "name": "stdout",
     "output_type": "stream",
     "text": [
      "100\n",
      "Five Five Five Five Five \n"
     ]
    }
   ],
   "source": [
    "var1 = 20  # These would be examples of VERY bad variable names\n",
    "var2 = 5\n",
    "print(var1 * var2)\n",
    "\n",
    "five_string = \"Five \"\n",
    "print(five_string * var2)"
   ]
  },
  {
   "cell_type": "code",
   "execution_count": 16,
   "metadata": {},
   "outputs": [
    {
     "name": "stdout",
     "output_type": "stream",
     "text": [
      "100 m\n"
     ]
    }
   ],
   "source": [
    "# This is an example with better variable names\n",
    "\n",
    "velocity = 20  # Units: m/s\n",
    "time = 5  # Units: s\n",
    "\n",
    "distance = velocity * time\n",
    "print(distance, \"m\")"
   ]
  },
  {
   "cell_type": "markdown",
   "metadata": {},
   "source": [
    "In addition to numbers and strings we also have the `True` and `False` Boolean values. *Python* has a variety of ways of comparing two objects and we can use such comparisons in conditional statements and loops to test various conditions.\n",
    "\n",
    "* `A==B`: is `A` equal to `B`?\n",
    "* `A!=B`: is `A` not equal to `B`?\n",
    "* `A>B`, `A>=B`, `A<B`, `A<=B`: is `A` greater than/greater than or equal/less than/less then or equal to `B`?\n",
    "* `A is B`: is `A` the same object as `B` (not just value)\n",
    "* `A in B`: is `A` in `B`? Makes sense if `B` is a container like a list.\n",
    "\n",
    "Each of these tests can be combined with others with the logical operations `and`, `or`, and `not` to create more complex tests.\n",
    "\n",
    "Here is some examples of tests:"
   ]
  },
  {
   "cell_type": "code",
   "execution_count": 17,
   "metadata": {},
   "outputs": [
    {
     "data": {
      "text/plain": [
       "True"
      ]
     },
     "execution_count": 17,
     "metadata": {},
     "output_type": "execute_result"
    }
   ],
   "source": [
    "9**2 == 10 + 8 * 10 - 9"
   ]
  },
  {
   "cell_type": "code",
   "execution_count": 18,
   "metadata": {},
   "outputs": [
    {
     "data": {
      "text/plain": [
       "True"
      ]
     },
     "execution_count": 18,
     "metadata": {},
     "output_type": "execute_result"
    }
   ],
   "source": [
    "[1, 2, 3] == [1, 2, 3]"
   ]
  },
  {
   "cell_type": "code",
   "execution_count": 19,
   "metadata": {},
   "outputs": [
    {
     "data": {
      "text/plain": [
       "False"
      ]
     },
     "execution_count": 19,
     "metadata": {},
     "output_type": "execute_result"
    }
   ],
   "source": [
    "[1, 3, 2] == [1, 2, 3]"
   ]
  },
  {
   "cell_type": "code",
   "execution_count": 20,
   "metadata": {},
   "outputs": [
    {
     "data": {
      "text/plain": [
       "True"
      ]
     },
     "execution_count": 20,
     "metadata": {},
     "output_type": "execute_result"
    }
   ],
   "source": [
    "3.0 in [\"Yay\", \"Python\", 3.0]  # Asking if 3.0 is in the list"
   ]
  },
  {
   "cell_type": "code",
   "execution_count": 21,
   "metadata": {},
   "outputs": [
    {
     "data": {
      "text/plain": [
       "True"
      ]
     },
     "execution_count": 21,
     "metadata": {},
     "output_type": "execute_result"
    }
   ],
   "source": [
    "A = 30\n",
    "\n",
    "(A > 10) or (A % 3 == 0)  \n",
    "# Here % means modulo. i.e A % 3 means keep subtracting 3 from A until you have a number smaller than 3, then\n",
    "# return the remainder. It's an easy way to check if one number is a multiple of another.\n",
    "# So 4 % 3 = 1, 9 % 3 = 0, 12 % 3 = 0, 41 % 3 = 2 "
   ]
  },
  {
   "cell_type": "markdown",
   "metadata": {},
   "source": [
    "### Part 1.5: Objects\n",
    "\n",
    "Everything in *Python* is an *object*. Don't worry too much about what this means, for us it just means that even simple things like numbers have 'attributes' and 'methods' (functions). For numbers these are not very interesting except they define what a number *is*. For strings there are lots of useful methods. You can access these attributes and methods by a dot (.) followed by the attribute or method name."
   ]
  },
  {
   "cell_type": "code",
   "execution_count": 22,
   "metadata": {},
   "outputs": [
    {
     "data": {
      "text/plain": [
       "'THIS IS A UPPER CASE STRING'"
      ]
     },
     "execution_count": 22,
     "metadata": {},
     "output_type": "execute_result"
    }
   ],
   "source": [
    "\"this is a upper case string\".upper()"
   ]
  },
  {
   "cell_type": "code",
   "execution_count": 23,
   "metadata": {},
   "outputs": [
    {
     "data": {
      "text/plain": [
       "'this is a lower case string'"
      ]
     },
     "execution_count": 23,
     "metadata": {},
     "output_type": "execute_result"
    }
   ],
   "source": [
    "\"THIS IS A LOWER CASE STRING\".lower()"
   ]
  },
  {
   "cell_type": "code",
   "execution_count": 24,
   "metadata": {},
   "outputs": [
    {
     "data": {
      "text/plain": [
       "'Hello world'"
      ]
     },
     "execution_count": 24,
     "metadata": {},
     "output_type": "execute_result"
    }
   ],
   "source": [
    "\"hello world\".capitalize()"
   ]
  },
  {
   "cell_type": "code",
   "execution_count": 25,
   "metadata": {},
   "outputs": [
    {
     "data": {
      "text/plain": [
       "['another', 'darn', 'example']"
      ]
     },
     "execution_count": 25,
     "metadata": {},
     "output_type": "execute_result"
    }
   ],
   "source": [
    "\"another darn example\".split()"
   ]
  },
  {
   "cell_type": "markdown",
   "metadata": {},
   "source": [
    "### Part 1.6: Lists and Tuples\n",
    "\n",
    "Lists in *Python* are defined using [ ]. Tuples are created using ( ). The difference between a list and a tuple is that you can change values in the list but not with a tuple."
   ]
  },
  {
   "cell_type": "code",
   "execution_count": 16,
   "metadata": {},
   "outputs": [],
   "source": [
    "# These are some examples of lists\n",
    "example_list1 = [1, 2, 3, 4]\n",
    "example_list2 = [\"Mon\", \"Tues\", \"Wed\", \"Thurs\", \"Fri\", \"Sat\", \"Sun\"]\n",
    "example_list3 = [1, \"str\", 3.14]  # This list contains objects of different types: int, string and float\n",
    "\n",
    "# These are some examples of tuples\n",
    "example_tuple1 = (1, 2, 3, 4)\n",
    "example_tuple2 = (\"Mon\", \"Tues\", \"Wed\", \"Thurs\", \"Fri\", \"Sat\", \"Sun\")\n",
    "example_tuple3 = (1, \"str\", 3.14)  # This tuple contains objects of different types: int, string and float"
   ]
  },
  {
   "cell_type": "markdown",
   "metadata": {},
   "source": [
    "You can access an item in a list or tuple using the index of that item and square brackets []. This is where it is important to remember how to count. As a bonus Python always starts counting with 0. Meaning the first item in the list has the index zero. The second item in a list has index 1, and so on. Don't worry this starts to feel natural after a while."
   ]
  },
  {
   "cell_type": "code",
   "execution_count": 20,
   "metadata": {},
   "outputs": [
    {
     "name": "stdout",
     "output_type": "stream",
     "text": [
      "List Examples\n",
      "1\n",
      "Thurs\n",
      "3.14\n",
      "Tuple Examples\n",
      "4\n",
      "Wed\n",
      "str\n"
     ]
    }
   ],
   "source": [
    "print(\"List Examples\")\n",
    "print(example_list1[0])\n",
    "print(example_list2[3])\n",
    "print(example_list3[2])\n",
    "print(\"Tuple Examples\")\n",
    "print(example_tuple1[3])\n",
    "print(example_list2[2])\n",
    "print(example_list3[1])"
   ]
  },
  {
   "cell_type": "markdown",
   "metadata": {},
   "source": [
    "You can also use negative numbers to count backwards through a list."
   ]
  },
  {
   "cell_type": "code",
   "execution_count": 21,
   "metadata": {},
   "outputs": [
    {
     "name": "stdout",
     "output_type": "stream",
     "text": [
      "Sun\n",
      "Fri\n"
     ]
    }
   ],
   "source": [
    "print(example_list2[-1])  # -1 is the final item in the list\n",
    "print(example_list2[-3])  # -3 is the third last item in the list"
   ]
  },
  {
   "cell_type": "markdown",
   "metadata": {},
   "source": [
    "This is where lists and tuples differ. Once we have defined a tuple, we can't change it. Where was we can freely change items in a list."
   ]
  },
  {
   "cell_type": "code",
   "execution_count": 22,
   "metadata": {},
   "outputs": [
    {
     "name": "stdout",
     "output_type": "stream",
     "text": [
      "[5, 2, 500, 4]\n"
     ]
    }
   ],
   "source": [
    "example_list1[0] = 5\n",
    "example_list1[2] = 500\n",
    "print(example_list1)"
   ]
  },
  {
   "cell_type": "code",
   "execution_count": 24,
   "metadata": {},
   "outputs": [
    {
     "ename": "TypeError",
     "evalue": "'tuple' object does not support item assignment",
     "output_type": "error",
     "traceback": [
      "\u001b[0;31m---------------------------------------------------------------------------\u001b[0m",
      "\u001b[0;31mTypeError\u001b[0m                                 Traceback (most recent call last)",
      "\u001b[0;32m<ipython-input-24-b1e2a1967c4c>\u001b[0m in \u001b[0;36m<module>\u001b[0;34m()\u001b[0m\n\u001b[1;32m      1\u001b[0m \u001b[0;31m# This should cause an error\u001b[0m\u001b[0;34m\u001b[0m\u001b[0;34m\u001b[0m\u001b[0;34m\u001b[0m\u001b[0m\n\u001b[0;32m----> 2\u001b[0;31m \u001b[0mexample_tuple1\u001b[0m\u001b[0;34m[\u001b[0m\u001b[0;36m0\u001b[0m\u001b[0;34m]\u001b[0m \u001b[0;34m=\u001b[0m \u001b[0;36m5\u001b[0m\u001b[0;34m\u001b[0m\u001b[0;34m\u001b[0m\u001b[0m\n\u001b[0m",
      "\u001b[0;31mTypeError\u001b[0m: 'tuple' object does not support item assignment"
     ]
    }
   ],
   "source": [
    "# This should cause an error\n",
    "example_tuple1[0] = 5"
   ]
  },
  {
   "cell_type": "markdown",
   "metadata": {},
   "source": [
    "## Part 2: Loading Data from a Text File\n",
    "\n",
    "In this section we are going to load data from a text file into python. In this folder there should be two other text files: \"sample_data_1.txt\" and \"sample_data_2.txt\". We are going to attempt to read these into python using `numpy`.\n",
    "\n",
    "If we open \"sample_data_1.txt\" we can see that it should look something like this:\n",
    "```\n",
    "0.0 0.0\n",
    "1.0 20.0\n",
    "2.0 40.0\n",
    "3.0 80.0\n",
    "4.0 40.0\n",
    "5.0 100.0\n",
    "6.0 40.0\n",
    "7.0 80.0\n",
    "8.0 40.0\n",
    "9.0 20.0\n",
    "10.0 0.0\n",
    "```\n",
    "\n",
    "Two columns of data. What we want is to assign each column do a different variable name. These could be \"x_values\" and \"y_values\". To load this text file we are going to use a function in `numpy` called `loadtxt`. Based on its name it shouldn't be a surprise that this functions purpose is to load a text file into python (one of the many benefits of choosing good names).\n",
    "\n",
    "To see how workout how to use `loadtxt` you can look at the help."
   ]
  },
  {
   "cell_type": "code",
   "execution_count": 31,
   "metadata": {},
   "outputs": [],
   "source": [
    "#np.loadtxt?"
   ]
  },
  {
   "cell_type": "markdown",
   "metadata": {},
   "source": [
    "The simplest way to load the data is to just give `np.loadtxt` the file name to load. As you can see below, numpy has loaded the entire file into a list, with each row a sub list."
   ]
  },
  {
   "cell_type": "code",
   "execution_count": 25,
   "metadata": {},
   "outputs": [
    {
     "name": "stdout",
     "output_type": "stream",
     "text": [
      "[[  0.   0.]\n",
      " [  1.  20.]\n",
      " [  2.  40.]\n",
      " [  3.  80.]\n",
      " [  4.  40.]\n",
      " [  5. 100.]\n",
      " [  6.  40.]\n",
      " [  7.  80.]\n",
      " [  8.  40.]\n",
      " [  9.  20.]\n",
      " [ 10.   0.]]\n"
     ]
    }
   ],
   "source": [
    "data = np.loadtxt(\"sample_data_1.txt\")\n",
    "print(data)"
   ]
  },
  {
   "cell_type": "code",
   "execution_count": 33,
   "metadata": {},
   "outputs": [
    {
     "name": "stdout",
     "output_type": "stream",
     "text": [
      "[0. 0.]\n",
      "[ 1. 20.]\n"
     ]
    }
   ],
   "source": [
    "print(data[0])\n",
    "print(data[1])"
   ]
  },
  {
   "cell_type": "markdown",
   "metadata": {},
   "source": [
    "This could be useful, however we would prefer to have seperate columns instead. This is where the parameter `unpack` comes in. By passing the parameter `unpack=True` into the `np.loadtxt` function we are telling it we want to return the columns instead of the rows.\n",
    "\n",
    "Note:\n",
    "\n",
    "`delimeter` is the character that separates different values in the text file. In this case the values are seperated by a space, so we specify `\" \"`. This is also the default value so it doesn't change anything, but sometimes files are seperated by commas `\",\"` (comma seperated values or csv files), this is what you would have to change.\n",
    "\n"
   ]
  },
  {
   "cell_type": "code",
   "execution_count": 27,
   "metadata": {},
   "outputs": [
    {
     "name": "stdout",
     "output_type": "stream",
     "text": [
      "[[  0.   1.   2.   3.   4.   5.   6.   7.   8.   9.  10.]\n",
      " [  0.  20.  40.  80.  40. 100.  40.  80.  40.  20.   0.]]\n"
     ]
    }
   ],
   "source": [
    "data = np.loadtxt(\"sample_data_1.txt\", unpack=True, delimiter=\" \")\n",
    "print(data)"
   ]
  },
  {
   "cell_type": "code",
   "execution_count": 28,
   "metadata": {},
   "outputs": [
    {
     "name": "stdout",
     "output_type": "stream",
     "text": [
      "[ 0.  1.  2.  3.  4.  5.  6.  7.  8.  9. 10.]\n",
      "[  0.  20.  40.  80.  40. 100.  40.  80.  40.  20.   0.]\n"
     ]
    }
   ],
   "source": [
    "print(data[0])\n",
    "print(data[1])"
   ]
  },
  {
   "cell_type": "markdown",
   "metadata": {},
   "source": [
    "Now we have to two columns in two seperate lists. In fact we can also just give the variable names that we want to give these lists when we load data file."
   ]
  },
  {
   "cell_type": "code",
   "execution_count": 29,
   "metadata": {},
   "outputs": [
    {
     "name": "stdout",
     "output_type": "stream",
     "text": [
      "[ 0.  1.  2.  3.  4.  5.  6.  7.  8.  9. 10.]\n",
      "[  0.   1.   4.   9.  16.  25.  36.  49.  64.  81. 100.]\n"
     ]
    }
   ],
   "source": [
    "x_values, y_values = np.loadtxt(\"sample_data_2.txt\", unpack=True, delimiter=\" \")\n",
    "print(x_values)\n",
    "print(y_values)"
   ]
  },
  {
   "cell_type": "markdown",
   "metadata": {},
   "source": [
    "## Part 3: Making a Simple Plot\n",
    "\n",
    "Okay, now that we have loaded the data from the text file into python. We are now ready to plot. We are using just a simple plot in `matplotlib` but there are lots of fancier things we could do with `matplotlib`.\n",
    "\n",
    "We aren't going to make any assumpions, so we are going to go through every step again so you know what is required to make a plot."
   ]
  },
  {
   "cell_type": "code",
   "execution_count": 5,
   "metadata": {},
   "outputs": [],
   "source": [
    "# First Load of the required packages\n",
    "import numpy as np \n",
    "import matplotlib.pyplot as plt"
   ]
  },
  {
   "cell_type": "code",
   "execution_count": 6,
   "metadata": {},
   "outputs": [],
   "source": [
    "# Second load the data into python from text file\n",
    "x_values1, y_values1 = np.loadtxt(\"sample_data_1.txt\", delimiter=\" \", unpack=True)\n",
    "x_values2, y_values2 = np.loadtxt(\"sample_data_2.txt\", delimiter=\" \", unpack=True)\n",
    "wavelength, spectra1, spectra2, spectra3, spectra4 = np.loadtxt(\"MUSE_cube_data.txt\", delimiter=\" \", unpack=True)"
   ]
  },
  {
   "cell_type": "markdown",
   "metadata": {},
   "source": [
    "The simplest ploting function in matplotlib is just called `plot`. All you have to do is pass it a get of x values and a set of y values of the same length and it will create a line plot."
   ]
  },
  {
   "cell_type": "code",
   "execution_count": 8,
   "metadata": {},
   "outputs": [
    {
     "data": {
      "text/plain": [
       "[<matplotlib.lines.Line2D at 0x118609490>]"
      ]
     },
     "execution_count": 8,
     "metadata": {},
     "output_type": "execute_result"
    },
    {
     "data": {
      "image/png": "[encoded data removed]",
      "text/plain": [
       "<Figure size 432x288 with 1 Axes>"
      ]
     },
     "metadata": {
      "needs_background": "light"
     },
     "output_type": "display_data"
    }
   ],
   "source": [
    "plt.plot(wavelength, spectra1)  # The first argument in the plot function is the x values and the second is y values."
   ]
  },
  {
   "cell_type": "code",
   "execution_count": 33,
   "metadata": {},
   "outputs": [
    {
     "data": {
      "text/plain": [
       "[<matplotlib.lines.Line2D at 0x1175f6d68>]"
      ]
     },
     "execution_count": 33,
     "metadata": {},
     "output_type": "execute_result"
    },
    {
     "data": {
      "image/png": "[encoded data removed]",
      "text/plain": [
       "<Figure size 432x288 with 1 Axes>"
      ]
     },
     "metadata": {},
     "output_type": "display_data"
    }
   ],
   "source": [
    "plt.plot(x_values2, y_values2) # This is the same as before but with the other dataset."
   ]
  },
  {
   "cell_type": "markdown",
   "metadata": {},
   "source": [
    "Okay, now we have some simple plots, but what if we want to compare them? We would have to put them on the same figure. Luckly that is super easy in python. We just make both plots, one right after the other."
   ]
  },
  {
   "cell_type": "code",
   "execution_count": 34,
   "metadata": {},
   "outputs": [
    {
     "data": {
      "text/plain": [
       "[<matplotlib.lines.Line2D at 0x1176985c0>]"
      ]
     },
     "execution_count": 34,
     "metadata": {},
     "output_type": "execute_result"
    },
    {
     "data": {
      "image/png": "[encoded data removed]",
      "text/plain": [
       "<Figure size 432x288 with 1 Axes>"
      ]
     },
     "metadata": {},
     "output_type": "display_data"
    }
   ],
   "source": [
    "plt.plot(x_values1, y_values1)\n",
    "plt.plot(x_values2, y_values2)"
   ]
  },
  {
   "cell_type": "markdown",
   "metadata": {},
   "source": [
    "Next we have to make the plot a good scientific plot! We need labels! The most important thing when creating a plot is to make sure that you label the axes and data, plus add a legend. \n",
    "\n",
    "We can add a `label` tag in the plot function and give it a string. \n",
    "\n",
    "The function `legend()` will create a legend based on the `label` tags.\n",
    "\n",
    "`xlabel` and `ylabel` are functions to let us specify the names of the x and y axes."
   ]
  },
  {
   "cell_type": "code",
   "execution_count": 42,
   "metadata": {},
   "outputs": [
    {
     "data": {
      "text/plain": [
       "<matplotlib.legend.Legend at 0x118354940>"
      ]
     },
     "execution_count": 42,
     "metadata": {},
     "output_type": "execute_result"
    },
    {
     "data": {
      "image/png": "[encoded data removed]",
      "text/plain": [
       "<Figure size 432x288 with 1 Axes>"
      ]
     },
     "metadata": {},
     "output_type": "display_data"
    }
   ],
   "source": [
    "plt.plot(x_values1, y_values1, label=\"sample_data_1\")\n",
    "plt.plot(x_values2, y_values2, label=\"sample_data_2\")\n",
    "\n",
    "plt.xlabel(\"Wavelength\")\n",
    "plt.ylabel(\"Flux\")\n",
    "plt.legend()"
   ]
  },
  {
   "cell_type": "markdown",
   "metadata": {},
   "source": [
    "This looks good! Now finally, after all that hard work we want to save this plot! So we use the function `savefig` and give it the name of the file we want to create."
   ]
  },
  {
   "cell_type": "code",
   "execution_count": 36,
   "metadata": {},
   "outputs": [
    {
     "data": {
      "image/png": "[encoded data removed]",
      "text/plain": [
       "<Figure size 432x288 with 1 Axes>"
      ]
     },
     "metadata": {},
     "output_type": "display_data"
    }
   ],
   "source": [
    "plt.plot(x_values1, y_values1, label=\"sample_data_1\")\n",
    "plt.plot(x_values2, y_values2, label=\"sample_data_2\")\n",
    "\n",
    "plt.xlabel(\"Wavelength\")\n",
    "plt.ylabel(\"Flux\")\n",
    "plt.legend()\n",
    "plt.savefig(\"example_plot.png\")"
   ]
  },
  {
   "cell_type": "markdown",
   "metadata": {},
   "source": [
    "## Part 4: Additional Stuff\n",
    "\n",
    "Below is all the code required to make a plot like this. Also there is another example showing how to make the plot look even nicer."
   ]
  },
  {
   "cell_type": "code",
   "execution_count": 44,
   "metadata": {},
   "outputs": [
    {
     "data": {
      "image/png": "[encoded data removed]",
      "text/plain": [
       "<Figure size 432x288 with 1 Axes>"
      ]
     },
     "metadata": {},
     "output_type": "display_data"
    }
   ],
   "source": [
    "# Total Python to create this plot\n",
    "\n",
    "import numpy as np\n",
    "import matplotlib.pyplot as plt\n",
    "\n",
    "x_values1, y_values1 = np.loadtxt(\"sample_data_1.txt\", delimiter=\" \", unpack=True)\n",
    "x_values2, y_values2 = np.loadtxt(\"sample_data_2.txt\", delimiter=\" \", unpack=True)\n",
    "\n",
    "plt.plot(x_values1, y_values1, label=\"sample_data_1\")\n",
    "plt.plot(x_values2, y_values2, label=\"sample_data_2\")\n",
    "\n",
    "plt.xlabel(\"Wavelength\")\n",
    "plt.ylabel(\"Flux\")\n",
    "plt.legend()\n",
    "plt.savefig(\"example_plot.png\")"
   ]
  },
  {
   "cell_type": "code",
   "execution_count": 37,
   "metadata": {},
   "outputs": [
    {
     "data": {
      "image/png": "[encoded data removed]",
      "text/plain": [
       "<Figure size 432x288 with 1 Axes>"
      ]
     },
     "metadata": {},
     "output_type": "display_data"
    }
   ],
   "source": [
    "# Just a tiny bit fancier, there are many options to play around with.\n",
    "\n",
    "import numpy as np\n",
    "import matplotlib.pyplot as plt\n",
    "\n",
    "x_values1, y_values1 = np.loadtxt(\"sample_data_1.txt\", delimiter=\" \", unpack=True)\n",
    "x_values2, y_values2 = np.loadtxt(\"sample_data_2.txt\", delimiter=\" \", unpack=True)\n",
    "\n",
    "plt.plot(x_values1, y_values1, label=\"sample_data_1\", color=\"purple\") # Change line colour to purple\n",
    "plt.plot(x_values2, y_values2, label=\"sample_data_2\", linestyle=\"--\") # Change line to dashed line\n",
    "\n",
    "fsize = 16  # Using variable instead of writing 16 over and over again\n",
    "image_resolution = 200\n",
    "\n",
    "plt.xlabel(\"Wavelength (units)\", fontsize=fsize) # make the fontsize of the x axis label larger\n",
    "plt.ylabel(\"Flux (units)\", fontsize=fsize) # make the fontsize of the y axis label larger\n",
    "plt.xticks(fontsize=fsize) # make fontsize of x tick numbers larger\n",
    "plt.yticks(fontsize=fsize) # make fontsize of y tick numbers larger\n",
    "plt.legend(frameon=False)  # remove the square box from legend\n",
    "plt.tight_layout() # Makes sure to crop the image correctly\n",
    "plt.savefig(\"example_plot.png\", dpi=image_resolution) # make the image higher resolition"
   ]
  },
  {
   "cell_type": "code",
   "execution_count": null,
   "metadata": {},
   "outputs": [],
   "source": []
  },
  {
   "cell_type": "markdown",
   "metadata": {},
   "source": [
    "## Part 5: Challenges"
   ]
  },
  {
   "cell_type": "markdown",
   "metadata": {},
   "source": [
    "Try plotting the sine function, and the cosine function on the same plot from $x = 0$ to $x = 2\\pi$"
   ]
  },
  {
   "cell_type": "code",
   "execution_count": null,
   "metadata": {},
   "outputs": [],
   "source": []
  },
  {
   "cell_type": "code",
   "execution_count": null,
   "metadata": {},
   "outputs": [],
   "source": []
  },
  {
   "cell_type": "markdown",
   "metadata": {},
   "source": [
    "Make a plot of spectra you extracted from DS9."
   ]
  },
  {
   "cell_type": "code",
   "execution_count": null,
   "metadata": {},
   "outputs": [],
   "source": []
  },
  {
   "cell_type": "code",
   "execution_count": null,
   "metadata": {},
   "outputs": [],
   "source": []
  },
  {
   "cell_type": "markdown",
   "metadata": {},
   "source": [
    "You can define your own functions like below. See if you can write a function that takes in x_values and y_values, then creates and saves a figure for you."
   ]
  },
  {
   "cell_type": "code",
   "execution_count": 46,
   "metadata": {},
   "outputs": [
    {
     "name": "stdout",
     "output_type": "stream",
     "text": [
      "15\n",
      "5\n",
      "0\n"
     ]
    }
   ],
   "source": [
    "def my_function_adds_5(number):\n",
    "    new_number = number + 5\n",
    "    return new_number\n",
    "\n",
    "print(my_function_adds_5(10))\n",
    "print(my_function_adds_5(0))\n",
    "print(my_function_adds_5(-5))"
   ]
  },
  {
   "cell_type": "code",
   "execution_count": null,
   "metadata": {},
   "outputs": [],
   "source": []
  }
 ],
 "metadata": {
  "kernelspec": {
   "display_name": "Python 3",
   "language": "python",
   "name": "python3"
  },
  "language_info": {
   "codemirror_mode": {
    "name": "ipython",
    "version": 3
   },
   "file_extension": ".py",
   "mimetype": "text/x-python",
   "name": "python",
   "nbconvert_exporter": "python",
   "pygments_lexer": "ipython3",
   "version": "3.8.0"
  }
 },
 "nbformat": 4,
 "nbformat_minor": 2
}
